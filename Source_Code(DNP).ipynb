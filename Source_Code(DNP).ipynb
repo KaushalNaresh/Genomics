{
 "cells": [
  {
   "cell_type": "markdown",
   "metadata": {},
   "source": [
    "## Dataset "
   ]
  },
  {
   "cell_type": "code",
   "execution_count": 1,
   "metadata": {},
   "outputs": [],
   "source": [
    "import pandas as pd"
   ]
  },
  {
   "cell_type": "code",
   "execution_count": 2,
   "metadata": {},
   "outputs": [],
   "source": [
    "df_1 = pd.read_csv(\"/tf/Classification/Data/BRCA/Using_cbioportal/data_RNA_Seq_v2_expression_median.tsv\", sep = '\\t')"
   ]
  },
  {
   "cell_type": "code",
   "execution_count": 3,
   "metadata": {},
   "outputs": [
    {
     "data": {
      "text/html": [
       "<div>\n",
       "<style scoped>\n",
       "    .dataframe tbody tr th:only-of-type {\n",
       "        vertical-align: middle;\n",
       "    }\n",
       "\n",
       "    .dataframe tbody tr th {\n",
       "        vertical-align: top;\n",
       "    }\n",
       "\n",
       "    .dataframe thead th {\n",
       "        text-align: right;\n",
       "    }\n",
       "</style>\n",
       "<table border=\"1\" class=\"dataframe\">\n",
       "  <thead>\n",
       "    <tr style=\"text-align: right;\">\n",
       "      <th></th>\n",
       "      <th>Hugo_Symbol</th>\n",
       "      <th>Entrez_Gene_Id</th>\n",
       "      <th>TCGA-3C-AAAU-01</th>\n",
       "      <th>TCGA-3C-AALI-01</th>\n",
       "      <th>TCGA-3C-AALJ-01</th>\n",
       "      <th>TCGA-3C-AALK-01</th>\n",
       "      <th>TCGA-4H-AAAK-01</th>\n",
       "      <th>TCGA-5L-AAT0-01</th>\n",
       "      <th>TCGA-5L-AAT1-01</th>\n",
       "      <th>TCGA-5T-A9QA-01</th>\n",
       "      <th>...</th>\n",
       "      <th>TCGA-UL-AAZ6-01</th>\n",
       "      <th>TCGA-UU-A93S-01</th>\n",
       "      <th>TCGA-V7-A7HQ-01</th>\n",
       "      <th>TCGA-W8-A86G-01</th>\n",
       "      <th>TCGA-WT-AB41-01</th>\n",
       "      <th>TCGA-WT-AB44-01</th>\n",
       "      <th>TCGA-XX-A899-01</th>\n",
       "      <th>TCGA-XX-A89A-01</th>\n",
       "      <th>TCGA-Z7-A8R5-01</th>\n",
       "      <th>TCGA-Z7-A8R6-01</th>\n",
       "    </tr>\n",
       "  </thead>\n",
       "  <tbody>\n",
       "    <tr>\n",
       "      <th>0</th>\n",
       "      <td>LOC100130426</td>\n",
       "      <td>100130426</td>\n",
       "      <td>0.0000</td>\n",
       "      <td>0.0000</td>\n",
       "      <td>0.9066</td>\n",
       "      <td>0.0000</td>\n",
       "      <td>0.0000</td>\n",
       "      <td>0.0000</td>\n",
       "      <td>0.0000</td>\n",
       "      <td>0.0000</td>\n",
       "      <td>...</td>\n",
       "      <td>0.0000</td>\n",
       "      <td>0.0000</td>\n",
       "      <td>0.0000</td>\n",
       "      <td>0.0000</td>\n",
       "      <td>0.0000</td>\n",
       "      <td>0.0000</td>\n",
       "      <td>0.0000</td>\n",
       "      <td>0.0000</td>\n",
       "      <td>0.0000</td>\n",
       "      <td>0.0000</td>\n",
       "    </tr>\n",
       "    <tr>\n",
       "      <th>1</th>\n",
       "      <td>UBE2Q2P3</td>\n",
       "      <td>100133144</td>\n",
       "      <td>16.3644</td>\n",
       "      <td>9.2659</td>\n",
       "      <td>11.6228</td>\n",
       "      <td>12.0894</td>\n",
       "      <td>6.8468</td>\n",
       "      <td>3.9889</td>\n",
       "      <td>0.0000</td>\n",
       "      <td>1.4644</td>\n",
       "      <td>...</td>\n",
       "      <td>0.3992</td>\n",
       "      <td>4.3126</td>\n",
       "      <td>0.0000</td>\n",
       "      <td>5.5624</td>\n",
       "      <td>0.0000</td>\n",
       "      <td>0.0000</td>\n",
       "      <td>14.3858</td>\n",
       "      <td>22.3240</td>\n",
       "      <td>2.2638</td>\n",
       "      <td>6.8865</td>\n",
       "    </tr>\n",
       "    <tr>\n",
       "      <th>2</th>\n",
       "      <td>UBE2Q2P3</td>\n",
       "      <td>100134869</td>\n",
       "      <td>12.9316</td>\n",
       "      <td>17.3790</td>\n",
       "      <td>9.2294</td>\n",
       "      <td>11.0799</td>\n",
       "      <td>14.4298</td>\n",
       "      <td>13.6090</td>\n",
       "      <td>10.5949</td>\n",
       "      <td>8.9958</td>\n",
       "      <td>...</td>\n",
       "      <td>14.3720</td>\n",
       "      <td>10.8828</td>\n",
       "      <td>3.0792</td>\n",
       "      <td>14.3711</td>\n",
       "      <td>6.3091</td>\n",
       "      <td>3.2580</td>\n",
       "      <td>21.4409</td>\n",
       "      <td>27.2744</td>\n",
       "      <td>7.2933</td>\n",
       "      <td>24.7795</td>\n",
       "    </tr>\n",
       "    <tr>\n",
       "      <th>3</th>\n",
       "      <td>LOC149767</td>\n",
       "      <td>10357</td>\n",
       "      <td>52.1503</td>\n",
       "      <td>69.7553</td>\n",
       "      <td>154.2974</td>\n",
       "      <td>143.8643</td>\n",
       "      <td>84.2128</td>\n",
       "      <td>114.2572</td>\n",
       "      <td>115.9984</td>\n",
       "      <td>107.5628</td>\n",
       "      <td>...</td>\n",
       "      <td>135.6241</td>\n",
       "      <td>136.1288</td>\n",
       "      <td>29.9974</td>\n",
       "      <td>128.3151</td>\n",
       "      <td>53.6278</td>\n",
       "      <td>42.2643</td>\n",
       "      <td>137.7756</td>\n",
       "      <td>64.1427</td>\n",
       "      <td>85.0461</td>\n",
       "      <td>167.5511</td>\n",
       "    </tr>\n",
       "    <tr>\n",
       "      <th>4</th>\n",
       "      <td>TIMM23</td>\n",
       "      <td>10431</td>\n",
       "      <td>408.0760</td>\n",
       "      <td>563.8934</td>\n",
       "      <td>1360.8341</td>\n",
       "      <td>865.5358</td>\n",
       "      <td>766.3830</td>\n",
       "      <td>807.7431</td>\n",
       "      <td>1108.3945</td>\n",
       "      <td>1420.5021</td>\n",
       "      <td>...</td>\n",
       "      <td>1570.1445</td>\n",
       "      <td>2886.3965</td>\n",
       "      <td>1721.8816</td>\n",
       "      <td>697.6744</td>\n",
       "      <td>1245.2681</td>\n",
       "      <td>1877.4180</td>\n",
       "      <td>652.7559</td>\n",
       "      <td>722.7208</td>\n",
       "      <td>1140.2801</td>\n",
       "      <td>1003.5668</td>\n",
       "    </tr>\n",
       "  </tbody>\n",
       "</table>\n",
       "<p>5 rows × 1102 columns</p>\n",
       "</div>"
      ],
      "text/plain": [
       "    Hugo_Symbol  Entrez_Gene_Id  TCGA-3C-AAAU-01  TCGA-3C-AALI-01  \\\n",
       "0  LOC100130426       100130426           0.0000           0.0000   \n",
       "1      UBE2Q2P3       100133144          16.3644           9.2659   \n",
       "2      UBE2Q2P3       100134869          12.9316          17.3790   \n",
       "3     LOC149767           10357          52.1503          69.7553   \n",
       "4        TIMM23           10431         408.0760         563.8934   \n",
       "\n",
       "   TCGA-3C-AALJ-01  TCGA-3C-AALK-01  TCGA-4H-AAAK-01  TCGA-5L-AAT0-01  \\\n",
       "0           0.9066           0.0000           0.0000           0.0000   \n",
       "1          11.6228          12.0894           6.8468           3.9889   \n",
       "2           9.2294          11.0799          14.4298          13.6090   \n",
       "3         154.2974         143.8643          84.2128         114.2572   \n",
       "4        1360.8341         865.5358         766.3830         807.7431   \n",
       "\n",
       "   TCGA-5L-AAT1-01  TCGA-5T-A9QA-01  ...  TCGA-UL-AAZ6-01  TCGA-UU-A93S-01  \\\n",
       "0           0.0000           0.0000  ...           0.0000           0.0000   \n",
       "1           0.0000           1.4644  ...           0.3992           4.3126   \n",
       "2          10.5949           8.9958  ...          14.3720          10.8828   \n",
       "3         115.9984         107.5628  ...         135.6241         136.1288   \n",
       "4        1108.3945        1420.5021  ...        1570.1445        2886.3965   \n",
       "\n",
       "   TCGA-V7-A7HQ-01  TCGA-W8-A86G-01  TCGA-WT-AB41-01  TCGA-WT-AB44-01  \\\n",
       "0           0.0000           0.0000           0.0000           0.0000   \n",
       "1           0.0000           5.5624           0.0000           0.0000   \n",
       "2           3.0792          14.3711           6.3091           3.2580   \n",
       "3          29.9974         128.3151          53.6278          42.2643   \n",
       "4        1721.8816         697.6744        1245.2681        1877.4180   \n",
       "\n",
       "   TCGA-XX-A899-01  TCGA-XX-A89A-01  TCGA-Z7-A8R5-01  TCGA-Z7-A8R6-01  \n",
       "0           0.0000           0.0000           0.0000           0.0000  \n",
       "1          14.3858          22.3240           2.2638           6.8865  \n",
       "2          21.4409          27.2744           7.2933          24.7795  \n",
       "3         137.7756          64.1427          85.0461         167.5511  \n",
       "4         652.7559         722.7208        1140.2801        1003.5668  \n",
       "\n",
       "[5 rows x 1102 columns]"
      ]
     },
     "execution_count": 3,
     "metadata": {},
     "output_type": "execute_result"
    }
   ],
   "source": [
    "df_1.head()"
   ]
  },
  {
   "cell_type": "code",
   "execution_count": 4,
   "metadata": {},
   "outputs": [],
   "source": [
    "df_2 = pd.read_csv(\"/tf/Classification/Data/BRCA/Using_cbioportal/brca_tcga_pan_can_atlas_clinical_data.tsv\", sep = '\\t')"
   ]
  },
  {
   "cell_type": "code",
   "execution_count": 5,
   "metadata": {},
   "outputs": [
    {
     "data": {
      "text/html": [
       "<div>\n",
       "<style scoped>\n",
       "    .dataframe tbody tr th:only-of-type {\n",
       "        vertical-align: middle;\n",
       "    }\n",
       "\n",
       "    .dataframe tbody tr th {\n",
       "        vertical-align: top;\n",
       "    }\n",
       "\n",
       "    .dataframe thead th {\n",
       "        text-align: right;\n",
       "    }\n",
       "</style>\n",
       "<table border=\"1\" class=\"dataframe\">\n",
       "  <thead>\n",
       "    <tr style=\"text-align: right;\">\n",
       "      <th></th>\n",
       "      <th>Study ID</th>\n",
       "      <th>Patient ID</th>\n",
       "      <th>Sample ID</th>\n",
       "      <th>Diagnosis Age</th>\n",
       "      <th>Neoplasm Disease Stage American Joint Committee on Cancer Code</th>\n",
       "      <th>American Joint Committee on Cancer Publication Version Type</th>\n",
       "      <th>Aneuploidy Score</th>\n",
       "      <th>Buffa Hypoxia Score</th>\n",
       "      <th>Cancer Type</th>\n",
       "      <th>TCGA PanCanAtlas Cancer Type Acronym</th>\n",
       "      <th>...</th>\n",
       "      <th>9p Status</th>\n",
       "      <th>9q Status</th>\n",
       "      <th>Subtype</th>\n",
       "      <th>Tissue Prospective Collection Indicator</th>\n",
       "      <th>Tissue Retrospective Collection Indicator</th>\n",
       "      <th>Tissue Source Site</th>\n",
       "      <th>Tumor Disease Anatomic Site</th>\n",
       "      <th>Tumor Type</th>\n",
       "      <th>Patient Weight</th>\n",
       "      <th>Winter Hypoxia Score</th>\n",
       "    </tr>\n",
       "  </thead>\n",
       "  <tbody>\n",
       "    <tr>\n",
       "      <th>0</th>\n",
       "      <td>brca_tcga_pan_can_atlas_2018</td>\n",
       "      <td>TCGA-3C-AAAU</td>\n",
       "      <td>TCGA-3C-AAAU-01</td>\n",
       "      <td>55</td>\n",
       "      <td>STAGE X</td>\n",
       "      <td>6TH</td>\n",
       "      <td>19.0</td>\n",
       "      <td>-21.0</td>\n",
       "      <td>Invasive Breast Carcinoma</td>\n",
       "      <td>BRCA</td>\n",
       "      <td>...</td>\n",
       "      <td>Lost</td>\n",
       "      <td>Lost</td>\n",
       "      <td>BRCA_LumA</td>\n",
       "      <td>No</td>\n",
       "      <td>Yes</td>\n",
       "      <td>3C</td>\n",
       "      <td>Breast</td>\n",
       "      <td>Infiltrating Lobular Carcinoma</td>\n",
       "      <td>NaN</td>\n",
       "      <td>-28.0</td>\n",
       "    </tr>\n",
       "    <tr>\n",
       "      <th>1</th>\n",
       "      <td>brca_tcga_pan_can_atlas_2018</td>\n",
       "      <td>TCGA-3C-AALI</td>\n",
       "      <td>TCGA-3C-AALI-01</td>\n",
       "      <td>50</td>\n",
       "      <td>STAGE IIB</td>\n",
       "      <td>6TH</td>\n",
       "      <td>22.0</td>\n",
       "      <td>5.0</td>\n",
       "      <td>Invasive Breast Carcinoma</td>\n",
       "      <td>BRCA</td>\n",
       "      <td>...</td>\n",
       "      <td>Lost</td>\n",
       "      <td>NaN</td>\n",
       "      <td>BRCA_Her2</td>\n",
       "      <td>No</td>\n",
       "      <td>Yes</td>\n",
       "      <td>3C</td>\n",
       "      <td>Breast</td>\n",
       "      <td>Infiltrating Ductal Carcinoma</td>\n",
       "      <td>NaN</td>\n",
       "      <td>20.0</td>\n",
       "    </tr>\n",
       "    <tr>\n",
       "      <th>2</th>\n",
       "      <td>brca_tcga_pan_can_atlas_2018</td>\n",
       "      <td>TCGA-3C-AALJ</td>\n",
       "      <td>TCGA-3C-AALJ-01</td>\n",
       "      <td>62</td>\n",
       "      <td>STAGE IIB</td>\n",
       "      <td>7TH</td>\n",
       "      <td>13.0</td>\n",
       "      <td>-5.0</td>\n",
       "      <td>Invasive Breast Carcinoma</td>\n",
       "      <td>BRCA</td>\n",
       "      <td>...</td>\n",
       "      <td>Not Called</td>\n",
       "      <td>Gained</td>\n",
       "      <td>BRCA_LumB</td>\n",
       "      <td>No</td>\n",
       "      <td>Yes</td>\n",
       "      <td>3C</td>\n",
       "      <td>Breast</td>\n",
       "      <td>Infiltrating Ductal Carcinoma</td>\n",
       "      <td>NaN</td>\n",
       "      <td>-10.0</td>\n",
       "    </tr>\n",
       "    <tr>\n",
       "      <th>3</th>\n",
       "      <td>brca_tcga_pan_can_atlas_2018</td>\n",
       "      <td>TCGA-3C-AALK</td>\n",
       "      <td>TCGA-3C-AALK-01</td>\n",
       "      <td>52</td>\n",
       "      <td>STAGE IA</td>\n",
       "      <td>7TH</td>\n",
       "      <td>4.0</td>\n",
       "      <td>-27.0</td>\n",
       "      <td>Invasive Breast Carcinoma</td>\n",
       "      <td>BRCA</td>\n",
       "      <td>...</td>\n",
       "      <td>Not Called</td>\n",
       "      <td>Not Called</td>\n",
       "      <td>BRCA_LumA</td>\n",
       "      <td>No</td>\n",
       "      <td>Yes</td>\n",
       "      <td>3C</td>\n",
       "      <td>Breast</td>\n",
       "      <td>Infiltrating Ductal Carcinoma</td>\n",
       "      <td>NaN</td>\n",
       "      <td>4.0</td>\n",
       "    </tr>\n",
       "    <tr>\n",
       "      <th>4</th>\n",
       "      <td>brca_tcga_pan_can_atlas_2018</td>\n",
       "      <td>TCGA-4H-AAAK</td>\n",
       "      <td>TCGA-4H-AAAK-01</td>\n",
       "      <td>50</td>\n",
       "      <td>STAGE IIIA</td>\n",
       "      <td>7TH</td>\n",
       "      <td>7.0</td>\n",
       "      <td>-27.0</td>\n",
       "      <td>Invasive Breast Carcinoma</td>\n",
       "      <td>BRCA</td>\n",
       "      <td>...</td>\n",
       "      <td>Gained</td>\n",
       "      <td>Gained</td>\n",
       "      <td>BRCA_LumA</td>\n",
       "      <td>Yes</td>\n",
       "      <td>No</td>\n",
       "      <td>4H</td>\n",
       "      <td>Breast</td>\n",
       "      <td>Infiltrating Lobular Carcinoma</td>\n",
       "      <td>NaN</td>\n",
       "      <td>-20.0</td>\n",
       "    </tr>\n",
       "  </tbody>\n",
       "</table>\n",
       "<p>5 rows × 99 columns</p>\n",
       "</div>"
      ],
      "text/plain": [
       "                       Study ID    Patient ID        Sample ID  Diagnosis Age  \\\n",
       "0  brca_tcga_pan_can_atlas_2018  TCGA-3C-AAAU  TCGA-3C-AAAU-01             55   \n",
       "1  brca_tcga_pan_can_atlas_2018  TCGA-3C-AALI  TCGA-3C-AALI-01             50   \n",
       "2  brca_tcga_pan_can_atlas_2018  TCGA-3C-AALJ  TCGA-3C-AALJ-01             62   \n",
       "3  brca_tcga_pan_can_atlas_2018  TCGA-3C-AALK  TCGA-3C-AALK-01             52   \n",
       "4  brca_tcga_pan_can_atlas_2018  TCGA-4H-AAAK  TCGA-4H-AAAK-01             50   \n",
       "\n",
       "  Neoplasm Disease Stage American Joint Committee on Cancer Code  \\\n",
       "0                                            STAGE X               \n",
       "1                                          STAGE IIB               \n",
       "2                                          STAGE IIB               \n",
       "3                                           STAGE IA               \n",
       "4                                         STAGE IIIA               \n",
       "\n",
       "  American Joint Committee on Cancer Publication Version Type  \\\n",
       "0                                                6TH            \n",
       "1                                                6TH            \n",
       "2                                                7TH            \n",
       "3                                                7TH            \n",
       "4                                                7TH            \n",
       "\n",
       "   Aneuploidy Score  Buffa Hypoxia Score                Cancer Type  \\\n",
       "0              19.0                -21.0  Invasive Breast Carcinoma   \n",
       "1              22.0                  5.0  Invasive Breast Carcinoma   \n",
       "2              13.0                 -5.0  Invasive Breast Carcinoma   \n",
       "3               4.0                -27.0  Invasive Breast Carcinoma   \n",
       "4               7.0                -27.0  Invasive Breast Carcinoma   \n",
       "\n",
       "  TCGA PanCanAtlas Cancer Type Acronym  ...   9p Status   9q Status  \\\n",
       "0                                 BRCA  ...        Lost        Lost   \n",
       "1                                 BRCA  ...        Lost         NaN   \n",
       "2                                 BRCA  ...  Not Called      Gained   \n",
       "3                                 BRCA  ...  Not Called  Not Called   \n",
       "4                                 BRCA  ...      Gained      Gained   \n",
       "\n",
       "     Subtype  Tissue Prospective Collection Indicator  \\\n",
       "0  BRCA_LumA                                       No   \n",
       "1  BRCA_Her2                                       No   \n",
       "2  BRCA_LumB                                       No   \n",
       "3  BRCA_LumA                                       No   \n",
       "4  BRCA_LumA                                      Yes   \n",
       "\n",
       "   Tissue Retrospective Collection Indicator  Tissue Source Site  \\\n",
       "0                                        Yes                  3C   \n",
       "1                                        Yes                  3C   \n",
       "2                                        Yes                  3C   \n",
       "3                                        Yes                  3C   \n",
       "4                                         No                  4H   \n",
       "\n",
       "  Tumor Disease Anatomic Site                      Tumor Type Patient Weight  \\\n",
       "0                      Breast  Infiltrating Lobular Carcinoma            NaN   \n",
       "1                      Breast   Infiltrating Ductal Carcinoma            NaN   \n",
       "2                      Breast   Infiltrating Ductal Carcinoma            NaN   \n",
       "3                      Breast   Infiltrating Ductal Carcinoma            NaN   \n",
       "4                      Breast  Infiltrating Lobular Carcinoma            NaN   \n",
       "\n",
       "  Winter Hypoxia Score  \n",
       "0                -28.0  \n",
       "1                 20.0  \n",
       "2                -10.0  \n",
       "3                  4.0  \n",
       "4                -20.0  \n",
       "\n",
       "[5 rows x 99 columns]"
      ]
     },
     "execution_count": 5,
     "metadata": {},
     "output_type": "execute_result"
    }
   ],
   "source": [
    "df_2.head()"
   ]
  },
  {
   "cell_type": "code",
   "execution_count": 6,
   "metadata": {},
   "outputs": [
    {
     "data": {
      "text/html": [
       "<div>\n",
       "<style scoped>\n",
       "    .dataframe tbody tr th:only-of-type {\n",
       "        vertical-align: middle;\n",
       "    }\n",
       "\n",
       "    .dataframe tbody tr th {\n",
       "        vertical-align: top;\n",
       "    }\n",
       "\n",
       "    .dataframe thead th {\n",
       "        text-align: right;\n",
       "    }\n",
       "</style>\n",
       "<table border=\"1\" class=\"dataframe\">\n",
       "  <thead>\n",
       "    <tr style=\"text-align: right;\">\n",
       "      <th></th>\n",
       "      <th>Patient ID</th>\n",
       "      <th>Subtype</th>\n",
       "    </tr>\n",
       "  </thead>\n",
       "  <tbody>\n",
       "    <tr>\n",
       "      <th>0</th>\n",
       "      <td>TCGA-3C-AAAU</td>\n",
       "      <td>BRCA_LumA</td>\n",
       "    </tr>\n",
       "    <tr>\n",
       "      <th>1</th>\n",
       "      <td>TCGA-3C-AALI</td>\n",
       "      <td>BRCA_Her2</td>\n",
       "    </tr>\n",
       "    <tr>\n",
       "      <th>2</th>\n",
       "      <td>TCGA-3C-AALJ</td>\n",
       "      <td>BRCA_LumB</td>\n",
       "    </tr>\n",
       "    <tr>\n",
       "      <th>3</th>\n",
       "      <td>TCGA-3C-AALK</td>\n",
       "      <td>BRCA_LumA</td>\n",
       "    </tr>\n",
       "    <tr>\n",
       "      <th>4</th>\n",
       "      <td>TCGA-4H-AAAK</td>\n",
       "      <td>BRCA_LumA</td>\n",
       "    </tr>\n",
       "  </tbody>\n",
       "</table>\n",
       "</div>"
      ],
      "text/plain": [
       "     Patient ID    Subtype\n",
       "0  TCGA-3C-AAAU  BRCA_LumA\n",
       "1  TCGA-3C-AALI  BRCA_Her2\n",
       "2  TCGA-3C-AALJ  BRCA_LumB\n",
       "3  TCGA-3C-AALK  BRCA_LumA\n",
       "4  TCGA-4H-AAAK  BRCA_LumA"
      ]
     },
     "execution_count": 6,
     "metadata": {},
     "output_type": "execute_result"
    }
   ],
   "source": [
    "Y = df_2[['Patient ID', 'Subtype']]\n",
    "Y.head()"
   ]
  },
  {
   "cell_type": "code",
   "execution_count": 7,
   "metadata": {},
   "outputs": [],
   "source": [
    "Y_patient_code = Y['Patient ID'].tolist()"
   ]
  },
  {
   "cell_type": "code",
   "execution_count": 8,
   "metadata": {},
   "outputs": [],
   "source": [
    "df_patient_code = df_1.columns[2:]\n",
    "df_patient_code = [x[:-3] for x in df_patient_code]"
   ]
  },
  {
   "cell_type": "code",
   "execution_count": 9,
   "metadata": {},
   "outputs": [],
   "source": [
    "ans = [x for x in df_patient_code if x in Y_patient_code]   ## patient ID's that do have PAM50 avaialable"
   ]
  },
  {
   "cell_type": "code",
   "execution_count": 10,
   "metadata": {},
   "outputs": [
    {
     "data": {
      "text/plain": [
       "1086"
      ]
     },
     "execution_count": 10,
     "metadata": {},
     "output_type": "execute_result"
    }
   ],
   "source": [
    "len(ans)"
   ]
  },
  {
   "cell_type": "code",
   "execution_count": 11,
   "metadata": {
    "scrolled": true
   },
   "outputs": [
    {
     "data": {
      "text/plain": [
       "1084"
      ]
     },
     "execution_count": 11,
     "metadata": {},
     "output_type": "execute_result"
    }
   ],
   "source": [
    "len(Y_patient_code)    ## Number of patient ID's with PAM50 values in df_2"
   ]
  },
  {
   "cell_type": "code",
   "execution_count": 12,
   "metadata": {},
   "outputs": [
    {
     "data": {
      "text/plain": [
       "1100"
      ]
     },
     "execution_count": 12,
     "metadata": {},
     "output_type": "execute_result"
    }
   ],
   "source": [
    "len(df_patient_code)   ## Total Number of patient ID's in df_1"
   ]
  },
  {
   "cell_type": "code",
   "execution_count": 13,
   "metadata": {},
   "outputs": [
    {
     "data": {
      "text/plain": [
       "1093"
      ]
     },
     "execution_count": 13,
     "metadata": {},
     "output_type": "execute_result"
    }
   ],
   "source": [
    "len(set(df_patient_code))   ## Unique patient ID's in df_1"
   ]
  },
  {
   "cell_type": "code",
   "execution_count": 14,
   "metadata": {},
   "outputs": [
    {
     "data": {
      "text/plain": [
       "1084"
      ]
     },
     "execution_count": 14,
     "metadata": {},
     "output_type": "execute_result"
    }
   ],
   "source": [
    "len(set(Y_patient_code))   ## Unique patient Id's with PAM50 in df_2"
   ]
  },
  {
   "cell_type": "code",
   "execution_count": 15,
   "metadata": {},
   "outputs": [
    {
     "data": {
      "text/plain": [
       "1079"
      ]
     },
     "execution_count": 15,
     "metadata": {},
     "output_type": "execute_result"
    }
   ],
   "source": [
    "len(set(ans))     ## Unique patients in df_1 dataset with their PAM_50 in df_2 dataset"
   ]
  },
  {
   "cell_type": "markdown",
   "metadata": {},
   "source": [
    "## Algorithm (DNP)"
   ]
  },
  {
   "cell_type": "code",
   "execution_count": 18,
   "metadata": {},
   "outputs": [],
   "source": [
    "from sklearn.model_selection import train_test_split"
   ]
  },
  {
   "cell_type": "code",
   "execution_count": null,
   "metadata": {},
   "outputs": [],
   "source": [
    "X_train, X_test, y_train, y_test = train_test_split(df_1, Y, test_size=0.33, random_state=42)  ## returns numpy array"
   ]
  },
  {
   "cell_type": "code",
   "execution_count": 16,
   "metadata": {},
   "outputs": [],
   "source": [
    "## Prepare 2 sets S and C\n",
    "## S initially contains only the bias term and incrementally adds the features\n",
    "## C set contains all other features which are not contained in S set\n",
    "## Design a neural network with ReLu as non linear activation\n",
    "\n",
    "import tensorflow as tf\n",
    "from tensorflow import keras\n",
    "from tensorflow.keras import layers\n",
    "from keras import backend as K\n",
    "import numpy as np"
   ]
  },
  {
   "cell_type": "code",
   "execution_count": 76,
   "metadata": {},
   "outputs": [],
   "source": [
    "## Input : x - 2D numpy array of (number of samples (N) X Number of features (F))\n",
    "SUBTYPES = 5\n",
    "\n",
    "def build_a_subnetwork():\n",
    "    \n",
    "    #input_size = x.shape[1]  ## number of features in input\n",
    "    \n",
    "    model = tf.keras.Sequential([\n",
    "        tf.keras.layers.Dense(3, activation=tf.nn.relu, kernel_regularizer=keras.regularizers.l2(0.01)),  # kernel regulariser are applied to weights\n",
    "        tf.keras.layers.Dense(2, activation=tf.nn.relu, kernel_regularizer=keras.regularizers.l2(0.01)),  ## as per research paper we have to take lp regularisation where p = 2\n",
    "        tf.keras.layers.Dense(2, activation=tf.nn.relu, kernel_regularizer=keras.regularizers.l2(0.01)),\n",
    "        tf.keras.layers.Dense(2, activation=tf.nn.relu, kernel_regularizer=keras.regularizers.l2(0.01)),\n",
    "        tf.keras.layers.Dense(3)\n",
    "    ])\n",
    "    \n",
    "#     print(model.layers[0].weights)\n",
    "    \n",
    "    return model\n",
    "\n",
    "# build_a_subnetwork()"
   ]
  },
  {
   "cell_type": "code",
   "execution_count": 77,
   "metadata": {},
   "outputs": [
    {
     "data": {
      "text/plain": [
       "(3,)"
      ]
     },
     "execution_count": 77,
     "metadata": {},
     "output_type": "execute_result"
    }
   ],
   "source": [
    "def getWeightsToTrain(model, k):\n",
    "    \n",
    "    for i in range(k):\n",
    "        model.lay\n",
    "# tf.Variable(np.random.random(size=(1,)))\n",
    "a = np.array([[1, 2, 3], [3, 4, 5], [5, 6, 7]])\n",
    "a[0].shape"
   ]
  },
  {
   "cell_type": "code",
   "execution_count": 78,
   "metadata": {},
   "outputs": [
    {
     "name": "stdout",
     "output_type": "stream",
     "text": [
      "[1 2 3] 1\n"
     ]
    },
    {
     "ename": "ValueError",
     "evalue": "Input 0 of layer sequential_36 is incompatible with the layer: : expected min_ndim=2, found ndim=1. Full shape received: (3,)",
     "output_type": "error",
     "traceback": [
      "\u001b[0;31m\u001b[0m",
      "\u001b[0;31mValueError\u001b[0mTraceback (most recent call last)",
      "\u001b[0;32m<ipython-input-78-be54be320ef9>\u001b[0m in \u001b[0;36m<module>\u001b[0;34m\u001b[0m\n\u001b[1;32m     20\u001b[0m \u001b[0;34m\u001b[0m\u001b[0m\n\u001b[1;32m     21\u001b[0m \u001b[0mmodel\u001b[0m \u001b[0;34m=\u001b[0m \u001b[0mbuild_a_subnetwork\u001b[0m\u001b[0;34m(\u001b[0m\u001b[0;34m)\u001b[0m\u001b[0;34m\u001b[0m\u001b[0;34m\u001b[0m\u001b[0m\n\u001b[0;32m---> 22\u001b[0;31m \u001b[0mtrain_a_network\u001b[0m\u001b[0;34m(\u001b[0m\u001b[0mmodel\u001b[0m\u001b[0;34m,\u001b[0m \u001b[0mnp\u001b[0m\u001b[0;34m.\u001b[0m\u001b[0marray\u001b[0m\u001b[0;34m(\u001b[0m\u001b[0;34m[\u001b[0m\u001b[0;34m[\u001b[0m\u001b[0;36m1\u001b[0m\u001b[0;34m,\u001b[0m \u001b[0;36m2\u001b[0m\u001b[0;34m,\u001b[0m \u001b[0;36m3\u001b[0m\u001b[0;34m]\u001b[0m\u001b[0;34m,\u001b[0m \u001b[0;34m[\u001b[0m\u001b[0;36m3\u001b[0m\u001b[0;34m,\u001b[0m \u001b[0;36m4\u001b[0m\u001b[0;34m,\u001b[0m \u001b[0;36m5\u001b[0m\u001b[0;34m]\u001b[0m\u001b[0;34m,\u001b[0m \u001b[0;34m[\u001b[0m\u001b[0;36m5\u001b[0m\u001b[0;34m,\u001b[0m \u001b[0;36m6\u001b[0m\u001b[0;34m,\u001b[0m \u001b[0;36m7\u001b[0m\u001b[0;34m]\u001b[0m\u001b[0;34m]\u001b[0m\u001b[0;34m)\u001b[0m\u001b[0;34m,\u001b[0m \u001b[0mnp\u001b[0m\u001b[0;34m.\u001b[0m\u001b[0marray\u001b[0m\u001b[0;34m(\u001b[0m\u001b[0;34m[\u001b[0m\u001b[0;36m1\u001b[0m\u001b[0;34m,\u001b[0m \u001b[0;36m2\u001b[0m\u001b[0;34m,\u001b[0m \u001b[0;36m1\u001b[0m\u001b[0;34m]\u001b[0m\u001b[0;34m)\u001b[0m\u001b[0;34m,\u001b[0m \u001b[0;36m1\u001b[0m\u001b[0;34m)\u001b[0m\u001b[0;34m\u001b[0m\u001b[0;34m\u001b[0m\u001b[0m\n\u001b[0m",
      "\u001b[0;32m<ipython-input-78-be54be320ef9>\u001b[0m in \u001b[0;36mtrain_a_network\u001b[0;34m(model, x, y, k)\u001b[0m\n\u001b[1;32m     17\u001b[0m     \u001b[0;32mfor\u001b[0m \u001b[0minput\u001b[0m\u001b[0;34m,\u001b[0m \u001b[0moutput\u001b[0m \u001b[0;32min\u001b[0m \u001b[0mzip\u001b[0m\u001b[0;34m(\u001b[0m\u001b[0mx\u001b[0m\u001b[0;34m,\u001b[0m\u001b[0my\u001b[0m\u001b[0;34m)\u001b[0m\u001b[0;34m:\u001b[0m\u001b[0;34m\u001b[0m\u001b[0;34m\u001b[0m\u001b[0m\n\u001b[1;32m     18\u001b[0m         \u001b[0mprint\u001b[0m\u001b[0;34m(\u001b[0m\u001b[0minput\u001b[0m\u001b[0;34m,\u001b[0m \u001b[0moutput\u001b[0m\u001b[0;34m)\u001b[0m\u001b[0;34m\u001b[0m\u001b[0;34m\u001b[0m\u001b[0m\n\u001b[0;32m---> 19\u001b[0;31m         \u001b[0mopt\u001b[0m\u001b[0;34m.\u001b[0m\u001b[0mminimize\u001b[0m\u001b[0;34m(\u001b[0m\u001b[0mloss_fn\u001b[0m\u001b[0;34m,\u001b[0m \u001b[0mvar_list\u001b[0m\u001b[0;34m)\u001b[0m\u001b[0;34m\u001b[0m\u001b[0;34m\u001b[0m\u001b[0m\n\u001b[0m\u001b[1;32m     20\u001b[0m \u001b[0;34m\u001b[0m\u001b[0m\n\u001b[1;32m     21\u001b[0m \u001b[0mmodel\u001b[0m \u001b[0;34m=\u001b[0m \u001b[0mbuild_a_subnetwork\u001b[0m\u001b[0;34m(\u001b[0m\u001b[0;34m)\u001b[0m\u001b[0;34m\u001b[0m\u001b[0;34m\u001b[0m\u001b[0m\n",
      "\u001b[0;32m~.local/lib/python3.6/site-packages/tensorflow/python/keras/optimizer_v2/optimizer_v2.py\u001b[0m in \u001b[0;36mminimize\u001b[0;34m(self, loss, var_list, grad_loss, name, tape)\u001b[0m\n\u001b[1;32m    495\u001b[0m     \"\"\"\n\u001b[1;32m    496\u001b[0m     grads_and_vars = self._compute_gradients(\n\u001b[0;32m--> 497\u001b[0;31m         loss, var_list=var_list, grad_loss=grad_loss, tape=tape)\n\u001b[0m\u001b[1;32m    498\u001b[0m     \u001b[0;32mreturn\u001b[0m \u001b[0mself\u001b[0m\u001b[0;34m.\u001b[0m\u001b[0mapply_gradients\u001b[0m\u001b[0;34m(\u001b[0m\u001b[0mgrads_and_vars\u001b[0m\u001b[0;34m,\u001b[0m \u001b[0mname\u001b[0m\u001b[0;34m=\u001b[0m\u001b[0mname\u001b[0m\u001b[0;34m)\u001b[0m\u001b[0;34m\u001b[0m\u001b[0;34m\u001b[0m\u001b[0m\n\u001b[1;32m    499\u001b[0m \u001b[0;34m\u001b[0m\u001b[0m\n",
      "\u001b[0;32m~.local/lib/python3.6/site-packages/tensorflow/python/keras/optimizer_v2/optimizer_v2.py\u001b[0m in \u001b[0;36m_compute_gradients\u001b[0;34m(self, loss, var_list, grad_loss, tape)\u001b[0m\n\u001b[1;32m    537\u001b[0m         \u001b[0;32mif\u001b[0m \u001b[0;32mnot\u001b[0m \u001b[0mcallable\u001b[0m\u001b[0;34m(\u001b[0m\u001b[0mvar_list\u001b[0m\u001b[0;34m)\u001b[0m\u001b[0;34m:\u001b[0m\u001b[0;34m\u001b[0m\u001b[0;34m\u001b[0m\u001b[0m\n\u001b[1;32m    538\u001b[0m           \u001b[0mtape\u001b[0m\u001b[0;34m.\u001b[0m\u001b[0mwatch\u001b[0m\u001b[0;34m(\u001b[0m\u001b[0mvar_list\u001b[0m\u001b[0;34m)\u001b[0m\u001b[0;34m\u001b[0m\u001b[0;34m\u001b[0m\u001b[0m\n\u001b[0;32m--> 539\u001b[0;31m         \u001b[0mloss\u001b[0m \u001b[0;34m=\u001b[0m \u001b[0mloss\u001b[0m\u001b[0;34m(\u001b[0m\u001b[0;34m)\u001b[0m\u001b[0;34m\u001b[0m\u001b[0;34m\u001b[0m\u001b[0m\n\u001b[0m\u001b[1;32m    540\u001b[0m         \u001b[0;32mif\u001b[0m \u001b[0mcallable\u001b[0m\u001b[0;34m(\u001b[0m\u001b[0mvar_list\u001b[0m\u001b[0;34m)\u001b[0m\u001b[0;34m:\u001b[0m\u001b[0;34m\u001b[0m\u001b[0;34m\u001b[0m\u001b[0m\n\u001b[1;32m    541\u001b[0m           \u001b[0mvar_list\u001b[0m \u001b[0;34m=\u001b[0m \u001b[0mvar_list\u001b[0m\u001b[0;34m(\u001b[0m\u001b[0;34m)\u001b[0m\u001b[0;34m\u001b[0m\u001b[0;34m\u001b[0m\u001b[0m\n",
      "\u001b[0;32m<ipython-input-78-be54be320ef9>\u001b[0m in \u001b[0;36m<lambda>\u001b[0;34m()\u001b[0m\n\u001b[1;32m     12\u001b[0m \u001b[0;34m\u001b[0m\u001b[0m\n\u001b[1;32m     13\u001b[0m     \u001b[0mopt\u001b[0m \u001b[0;34m=\u001b[0m \u001b[0mtf\u001b[0m\u001b[0;34m.\u001b[0m\u001b[0mkeras\u001b[0m\u001b[0;34m.\u001b[0m\u001b[0moptimizers\u001b[0m\u001b[0;34m.\u001b[0m\u001b[0mAdagrad\u001b[0m\u001b[0;34m(\u001b[0m\u001b[0mlearning_rate\u001b[0m\u001b[0;34m=\u001b[0m\u001b[0;36m0.001\u001b[0m\u001b[0;34m)\u001b[0m\u001b[0;34m\u001b[0m\u001b[0;34m\u001b[0m\u001b[0m\n\u001b[0;32m---> 14\u001b[0;31m     \u001b[0mloss_fn\u001b[0m \u001b[0;34m=\u001b[0m \u001b[0;32mlambda\u001b[0m\u001b[0;34m:\u001b[0m \u001b[0mtf\u001b[0m\u001b[0;34m.\u001b[0m\u001b[0mkeras\u001b[0m\u001b[0;34m.\u001b[0m\u001b[0mlosses\u001b[0m\u001b[0;34m.\u001b[0m\u001b[0mCategoricalCrossentropy\u001b[0m\u001b[0;34m(\u001b[0m\u001b[0mmodel\u001b[0m\u001b[0;34m(\u001b[0m\u001b[0minput\u001b[0m\u001b[0;34m)\u001b[0m\u001b[0;34m,\u001b[0m \u001b[0moutput\u001b[0m\u001b[0;34m)\u001b[0m\u001b[0;34m\u001b[0m\u001b[0;34m\u001b[0m\u001b[0m\n\u001b[0m\u001b[1;32m     15\u001b[0m     \u001b[0mvar_list\u001b[0m \u001b[0;34m=\u001b[0m \u001b[0;32mlambda\u001b[0m\u001b[0;34m:\u001b[0m \u001b[0mmodel\u001b[0m\u001b[0;34m.\u001b[0m\u001b[0mtrainable_weights\u001b[0m\u001b[0;34m\u001b[0m\u001b[0;34m\u001b[0m\u001b[0m\n\u001b[1;32m     16\u001b[0m \u001b[0;34m\u001b[0m\u001b[0m\n",
      "\u001b[0;32m~.local/lib/python3.6/site-packages/tensorflow/python/keras/engine/base_layer.py\u001b[0m in \u001b[0;36m__call__\u001b[0;34m(self, *args, **kwargs)\u001b[0m\n\u001b[1;32m    996\u001b[0m         \u001b[0minputs\u001b[0m \u001b[0;34m=\u001b[0m \u001b[0mself\u001b[0m\u001b[0;34m.\u001b[0m\u001b[0m_maybe_cast_inputs\u001b[0m\u001b[0;34m(\u001b[0m\u001b[0minputs\u001b[0m\u001b[0;34m,\u001b[0m \u001b[0minput_list\u001b[0m\u001b[0;34m)\u001b[0m\u001b[0;34m\u001b[0m\u001b[0;34m\u001b[0m\u001b[0m\n\u001b[1;32m    997\u001b[0m \u001b[0;34m\u001b[0m\u001b[0m\n\u001b[0;32m--> 998\u001b[0;31m       \u001b[0minput_spec\u001b[0m\u001b[0;34m.\u001b[0m\u001b[0massert_input_compatibility\u001b[0m\u001b[0;34m(\u001b[0m\u001b[0mself\u001b[0m\u001b[0;34m.\u001b[0m\u001b[0minput_spec\u001b[0m\u001b[0;34m,\u001b[0m \u001b[0minputs\u001b[0m\u001b[0;34m,\u001b[0m \u001b[0mself\u001b[0m\u001b[0;34m.\u001b[0m\u001b[0mname\u001b[0m\u001b[0;34m)\u001b[0m\u001b[0;34m\u001b[0m\u001b[0;34m\u001b[0m\u001b[0m\n\u001b[0m\u001b[1;32m    999\u001b[0m       \u001b[0;32mif\u001b[0m \u001b[0meager\u001b[0m\u001b[0;34m:\u001b[0m\u001b[0;34m\u001b[0m\u001b[0;34m\u001b[0m\u001b[0m\n\u001b[1;32m   1000\u001b[0m         \u001b[0mcall_fn\u001b[0m \u001b[0;34m=\u001b[0m \u001b[0mself\u001b[0m\u001b[0;34m.\u001b[0m\u001b[0mcall\u001b[0m\u001b[0;34m\u001b[0m\u001b[0;34m\u001b[0m\u001b[0m\n",
      "\u001b[0;32m~.local/lib/python3.6/site-packages/tensorflow/python/keras/engine/input_spec.py\u001b[0m in \u001b[0;36massert_input_compatibility\u001b[0;34m(input_spec, inputs, layer_name)\u001b[0m\n\u001b[1;32m    237\u001b[0m                          \u001b[0;34m', found ndim='\u001b[0m \u001b[0;34m+\u001b[0m \u001b[0mstr\u001b[0m\u001b[0;34m(\u001b[0m\u001b[0mndim\u001b[0m\u001b[0;34m)\u001b[0m \u001b[0;34m+\u001b[0m\u001b[0;34m\u001b[0m\u001b[0;34m\u001b[0m\u001b[0m\n\u001b[1;32m    238\u001b[0m                          \u001b[0;34m'. Full shape received: '\u001b[0m \u001b[0;34m+\u001b[0m\u001b[0;34m\u001b[0m\u001b[0;34m\u001b[0m\u001b[0m\n\u001b[0;32m--> 239\u001b[0;31m                          str(tuple(shape)))\n\u001b[0m\u001b[1;32m    240\u001b[0m     \u001b[0;31m# Check dtype.\u001b[0m\u001b[0;34m\u001b[0m\u001b[0;34m\u001b[0m\u001b[0;34m\u001b[0m\u001b[0m\n\u001b[1;32m    241\u001b[0m     \u001b[0;32mif\u001b[0m \u001b[0mspec\u001b[0m\u001b[0;34m.\u001b[0m\u001b[0mdtype\u001b[0m \u001b[0;32mis\u001b[0m \u001b[0;32mnot\u001b[0m \u001b[0;32mNone\u001b[0m\u001b[0;34m:\u001b[0m\u001b[0;34m\u001b[0m\u001b[0;34m\u001b[0m\u001b[0m\n",
      "\u001b[0;31mValueError\u001b[0m: Input 0 of layer sequential_36 is incompatible with the layer: : expected min_ndim=2, found ndim=1. Full shape received: (3,)"
     ]
    }
   ],
   "source": [
    "prev_wts = None\n",
    "\n",
    "def train_a_network(model, x, y, k):\n",
    "    \n",
    "#     if prev_wts != None:\n",
    "       \n",
    "    #K.set_value(model.optimizer.learning_rate, 0.001)  ##  initial value of learning rate\n",
    "    #model.compile(optimizer=\"Adagrad\", loss=\"CategoricalCrossentropy\", metrics=[\"mae\", \"acc\"])\n",
    "    #model.fit(x, y)\n",
    "    \n",
    "#     wts_to_train = getWeightsToTrain(model, k)\n",
    "    \n",
    "    opt = tf.keras.optimizers.Adagrad(learning_rate=0.001)\n",
    "    loss_fn = lambda: tf.keras.losses.CategoricalCrossentropy(model(input), output)\n",
    "    var_list = lambda: model.trainable_weights\n",
    "    \n",
    "    for input, output in zip(x,y):\n",
    "        print(input, output)\n",
    "        opt.minimize(loss_fn, var_list)\n",
    "    \n",
    "model = build_a_subnetwork()\n",
    "train_a_network(model, np.array([[1, 2, 3], [3, 4, 5], [5, 6, 7]]), np.array([1, 2, 1]), 1)"
   ]
  },
  {
   "cell_type": "code",
   "execution_count": null,
   "metadata": {},
   "outputs": [],
   "source": [
    "def dnp():\n",
    "    \n",
    "    S_size = 1\n",
    "    C_Size = (X_train.shape[0] + X_test.shape[0])\n",
    "    x = np.ones((X_train.shape[0], 1))\n",
    "    \n",
    "    while(S_size < k):\n",
    "        model = build_a_subnetwork(x, y_train)\n",
    "        train_a_network(model, x, y)\n",
    "        \n",
    "        \n",
    "    "
   ]
  },
  {
   "cell_type": "code",
   "execution_count": null,
   "metadata": {},
   "outputs": [],
   "source": []
  },
  {
   "cell_type": "code",
   "execution_count": null,
   "metadata": {},
   "outputs": [],
   "source": []
  }
 ],
 "metadata": {
  "kernelspec": {
   "display_name": "Python 3",
   "language": "python",
   "name": "python3"
  },
  "language_info": {
   "codemirror_mode": {
    "name": "ipython",
    "version": 3
   },
   "file_extension": ".py",
   "mimetype": "text/x-python",
   "name": "python",
   "nbconvert_exporter": "python",
   "pygments_lexer": "ipython3",
   "version": "3.6.9"
  }
 },
 "nbformat": 4,
 "nbformat_minor": 4
}
